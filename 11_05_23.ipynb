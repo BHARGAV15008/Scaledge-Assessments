{
 "cells": [
  {
   "cell_type": "code",
   "execution_count": 16,
   "id": "47d1d633",
   "metadata": {},
   "outputs": [
    {
     "name": "stdout",
     "output_type": "stream",
     "text": [
      "0    1\n",
      "1    2\n",
      "2    3\n",
      "3    4\n",
      "4    5\n",
      "5    6\n",
      "6    7\n",
      "7    8\n",
      "dtype: int64 \n",
      " 0    23\n",
      "1    46\n",
      "2    23\n",
      "3    45\n",
      "4    61\n",
      "5    59\n",
      "6    90\n",
      "7    15\n",
      "dtype: int64\n"
     ]
    }
   ],
   "source": [
    "# 1) Write a Pandas program to create and display a one-dimensional array-like object containing an array of data using Pandas module.\n",
    "\n",
    "import pandas as pd\n",
    "\n",
    "data = pd.Series([1, 2, 3, 4, 5, 6, 7, 8])\n",
    "nums = pd.Series([23, 46, 23, 45, 61, 59, 90, 15])\n",
    "\n",
    "print(data, '\\n', nums)"
   ]
  },
  {
   "cell_type": "code",
   "execution_count": 14,
   "id": "17d7c1ac",
   "metadata": {},
   "outputs": [
    {
     "name": "stdout",
     "output_type": "stream",
     "text": [
      "0     6\n",
      "1    12\n",
      "2    18\n",
      "3    24\n",
      "4    30\n",
      "5    36\n",
      "6    42\n",
      "7    48\n",
      "dtype: int64 \n",
      " 0    -4\n",
      "1    -8\n",
      "2   -12\n",
      "3   -16\n",
      "4   -20\n",
      "5   -24\n",
      "6   -28\n",
      "7   -32\n",
      "dtype: int64 \n",
      " 0      5\n",
      "1     20\n",
      "2     45\n",
      "3     80\n",
      "4    125\n",
      "5    180\n",
      "6    245\n",
      "7    320\n",
      "dtype: int64 \n",
      " 0    0.2\n",
      "1    0.2\n",
      "2    0.2\n",
      "3    0.2\n",
      "4    0.2\n",
      "5    0.2\n",
      "6    0.2\n",
      "7    0.2\n",
      "dtype: float64\n"
     ]
    }
   ],
   "source": [
    "# 2) Write a Pandas program to add, subtract, multiple and divide two Pandas Series.\n",
    "\n",
    "import pandas as pd\n",
    "\n",
    "data = pd.Series([1, 2, 3, 4, 5, 6, 7, 8])\n",
    "nums = pd.Series([5, 10, 15, 20, 25, 30, 35, 40])\n",
    "\n",
    "add = data + nums\n",
    "sub = data - nums\n",
    "mul = data * nums\n",
    "div = data / nums\n",
    "print(add, '\\n', sub, '\\n', mul, '\\n', div)"
   ]
  },
  {
   "cell_type": "code",
   "execution_count": 12,
   "id": "56ab77fc",
   "metadata": {},
   "outputs": [
    {
     "name": "stdout",
     "output_type": "stream",
     "text": [
      "0    False\n",
      "1    False\n",
      "2    False\n",
      "3    False\n",
      "4     True\n",
      "dtype: bool\n"
     ]
    }
   ],
   "source": [
    "# 3) Write a Pandas program to compare the elements of the two Pandas Series. Sample Series: [2, 4, 6, 8, 10], [1, 3, 5, 7, 10]\n",
    "\n",
    "import pandas as pd\n",
    "\n",
    "data = pd.Series([2, 4, 6, 8, 10])\n",
    "nums = pd.Series([1, 3, 5, 7, 10])\n",
    "\n",
    "print(data == nums)"
   ]
  },
  {
   "cell_type": "code",
   "execution_count": 15,
   "id": "d98cd2b6",
   "metadata": {},
   "outputs": [
    {
     "name": "stdout",
     "output_type": "stream",
     "text": [
      "0    1\n",
      "1    2\n",
      "2    3\n",
      "3    4\n",
      "4    5\n",
      "5    6\n",
      "6    7\n",
      "7    8\n",
      "dtype: int32 \n",
      " 0    23\n",
      "1    46\n",
      "2    23\n",
      "3    45\n",
      "4    61\n",
      "5    59\n",
      "6    90\n",
      "7    15\n",
      "dtype: int32\n"
     ]
    }
   ],
   "source": [
    "# 4) Write a Pandas program to convert a NumPy array to a Pandas series.\n",
    "\n",
    "import pandas as pd\n",
    "import numpy as np\n",
    "\n",
    "arr1 = np.array([1, 2, 3, 4, 5, 6, 7, 8])\n",
    "arr2 = np.array([23, 46, 23, 45, 61, 59, 90, 15])\n",
    "\n",
    "data = pd.Series(arr1)\n",
    "nums = pd.Series(arr2)\n",
    "\n",
    "print(data, '\\n', nums)"
   ]
  },
  {
   "cell_type": "code",
   "execution_count": 19,
   "id": "eb89421f",
   "metadata": {},
   "outputs": [
    {
     "name": "stdout",
     "output_type": "stream",
     "text": [
      "      Name  Age  Salary\n",
      "0    Rajan   30   50000\n",
      "1  Bhavesh   25   60000\n",
      "2    Anand   35   55000\n",
      "3    Vijay   40   70000\n",
      "\n",
      "      Name   Age  Salary\n",
      "0    Rajan  30.0   50000\n",
      "1  Bhavesh  25.0   60000\n",
      "2    Anand  35.0   55000\n",
      "3    Vijay  40.0   70000\n"
     ]
    }
   ],
   "source": [
    "# 5) Write a Pandas program to change the data type of column or a Series\n",
    "\n",
    "import pandas as pd\n",
    "\n",
    "df = pd.DataFrame({'Name': ['Rajan', 'Bhavesh', 'Anand', 'Vijay'],\n",
    "                   'Age': [30, 25, 35, 40],\n",
    "                   'Salary': [50000, 60000, 55000, 70000]})\n",
    "print(df)\n",
    "print()\n",
    "df['Age'] = df['Age'].astype(float)\n",
    "df['Salary'] = df['Salary'].astype(int)\n",
    "\n",
    "print(df)"
   ]
  },
  {
   "cell_type": "code",
   "execution_count": 34,
   "id": "0bbc831d",
   "metadata": {},
   "outputs": [
    {
     "name": "stdout",
     "output_type": "stream",
     "text": [
      "3     16\n",
      "4     18\n",
      "5     21\n",
      "8     23\n",
      "9     25\n",
      "10    24\n",
      "12    20\n",
      "dtype: int64\n",
      "0     12\n",
      "1     11\n",
      "2     10\n",
      "6      9\n",
      "7      5\n",
      "11     4\n",
      "13    10\n",
      "dtype: int64\n"
     ]
    }
   ],
   "source": [
    "# 7) Write a Pandas program to create a subset of a given series based on value and condition.\n",
    "\n",
    "import pandas as pd\n",
    "\n",
    "data = pd.Series([12, 11, 10, 16, 18, 21, 9, 5, 23, 25, 24, 4, 20, 10])\n",
    "\n",
    "sub1 = data[(data > 15)]\n",
    "print(sub1)\n",
    "\n",
    "sub2 = data[(data < 15)]\n",
    "print(sub2)"
   ]
  },
  {
   "cell_type": "code",
   "execution_count": 35,
   "id": "4fcda975",
   "metadata": {},
   "outputs": [
    {
     "name": "stdout",
     "output_type": "stream",
     "text": [
      "B    2\n",
      "A    1\n",
      "C    3\n",
      "D    4\n",
      "E    5\n",
      "dtype: int64\n",
      "B    2\n",
      "A    1\n",
      "C    3\n",
      "D    4\n",
      "E    5\n",
      "dtype: int64\n"
     ]
    }
   ],
   "source": [
    "# 8) Write a Pandas program to change the order of index of a given series.\n",
    "# Sample Output: Original Data Series: A 1 B 2 C 3 D 4 E 5 dtype: int64\n",
    "# Data Series after changing the order of index: B 2 A 1 C 3 D 4 E 5 dtype: int64\n",
    "\n",
    "import pandas as pd\n",
    "\n",
    "data = pd.Series([1, 2, 3, 4, 5])\n",
    "data.index = ['A', 'B', 'C', 'D', 'E']\n",
    "print(s)\n",
    "\n",
    "s = s.reindex(index=['B', 'A', 'C', 'D', 'E'])\n",
    "print(s)\n"
   ]
  }
 ],
 "metadata": {
  "kernelspec": {
   "display_name": "Python 3 (ipykernel)",
   "language": "python",
   "name": "python3"
  },
  "language_info": {
   "codemirror_mode": {
    "name": "ipython",
    "version": 3
   },
   "file_extension": ".py",
   "mimetype": "text/x-python",
   "name": "python",
   "nbconvert_exporter": "python",
   "pygments_lexer": "ipython3",
   "version": "3.10.9"
  }
 },
 "nbformat": 4,
 "nbformat_minor": 5
}
