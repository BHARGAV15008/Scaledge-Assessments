{
  "nbformat": 4,
  "nbformat_minor": 0,
  "metadata": {
    "colab": {
      "provenance": []
    },
    "kernelspec": {
      "name": "python3",
      "display_name": "Python 3"
    },
    "language_info": {
      "name": "python"
    }
  },
  "cells": [
    {
      "cell_type": "code",
      "execution_count": 1,
      "metadata": {
        "colab": {
          "base_uri": "https://localhost:8080/"
        },
        "id": "73hJZpbGqh3v",
        "outputId": "45ba1a7f-39d3-4cdb-ca1c-680fa98005e8"
      },
      "outputs": [
        {
          "output_type": "stream",
          "name": "stdout",
          "text": [
            "['9', '50', '2', '1']\n",
            "95021\n"
          ]
        }
      ],
      "source": [
        "# 1) Write a python program that given a list of non-negative integers, arranges them such that they form the largest possible number. For example, given [50,2,1,9], the largest formed number is 95021.\n",
        "from functools import cmp_to_key\n",
        "lst = [50, 2, 1, 9]\n",
        "\n",
        "lst_str = [str(i) for i in lst]\n",
        "\n",
        "def cmpare(x, y):\n",
        "  if int(x+y) > int(y+x):\n",
        "    return -1;\n",
        "  else:\n",
        "    return 1\n",
        "\n",
        "lst_str.sort(key=cmp_to_key(cmpare))\n",
        "print(lst_str)\n",
        "print(\"\".join(lst_str))"
      ]
    },
    {
      "cell_type": "code",
      "source": [
        "# 2) Given an array of numbers, final all the pairs of number which sum upto k. Example List = [0,14,0,4,7,8,3,5,7] value = 11. Output = [(4, 7), (7, 4), (8, 3), (3, 8), (7, 4)]\n",
        "\n",
        "lst = [0,14,0,4,7,8,3,5,7] \n",
        "value = 11\n",
        "output = []\n",
        "\n",
        "def pairing(lsts, tar):\n",
        "  for i in lsts:\n",
        "    com = tar - i\n",
        "    if com in lsts:\n",
        "      output.append((i, com))\n",
        "\n",
        "pairing(lst, value)\n",
        "\n",
        "print(output)"
      ],
      "metadata": {
        "colab": {
          "base_uri": "https://localhost:8080/"
        },
        "id": "no25WgQZquqL",
        "outputId": "d56b3353-7fde-40fb-ff0d-f45a47cc9219"
      },
      "execution_count": 2,
      "outputs": [
        {
          "output_type": "stream",
          "name": "stdout",
          "text": [
            "[(4, 7), (7, 4), (8, 3), (3, 8), (7, 4)]\n"
          ]
        }
      ]
    },
    {
      "cell_type": "code",
      "source": [
        "# 3) Write a program to check if it only contains digits in a string\n",
        "\n",
        "inr = input(\"Enter your String: \");\n",
        "\n",
        "if inr.isdigit():\n",
        "  print(True)\n",
        "else:\n",
        "  print(False)"
      ],
      "metadata": {
        "colab": {
          "base_uri": "https://localhost:8080/"
        },
        "id": "qaQjIQm4qzj9",
        "outputId": "9e2814e0-b50a-4fb4-c6d6-75b2bd434489"
      },
      "execution_count": 3,
      "outputs": [
        {
          "output_type": "stream",
          "name": "stdout",
          "text": [
            "Enter your String: 54\n",
            "True\n"
          ]
        }
      ]
    },
    {
      "cell_type": "code",
      "source": [
        "# 4) Write a program to Print duplicate characters in a string\n",
        "\n",
        "str1 = [i for i in input(\"Enter your String:  \")]\n",
        "\n",
        "unistr = set(str1)\n",
        "\n",
        "newstr = [str1.remove(i) for i in unistr]\n",
        "print(set(str1))"
      ],
      "metadata": {
        "colab": {
          "base_uri": "https://localhost:8080/"
        },
        "id": "pEIZ3v_1q2rh",
        "outputId": "17d0cc82-cbd3-41b6-e084-6db3d96d5df6"
      },
      "execution_count": 14,
      "outputs": [
        {
          "output_type": "stream",
          "name": "stdout",
          "text": [
            "Enter your String:  bhargavajani\n",
            "{'a'}\n"
          ]
        }
      ]
    },
    {
      "cell_type": "code",
      "source": [
        "# 5) Write a program for Username Validation(`str`) take the `str` parameter being passed and determine if the string is a valid username according to the following rules:\n",
        "# § The username is between 4 and 25 characters\n",
        "# § It must start with a letter.\n",
        "# § It can only contain letters, numbers, and the underscore character.\n",
        "# § It cannot end with an underscore character.\n",
        "# If the username is valid then your program should return the string `true`, otherwise return the string `false`\n",
        "\n",
        "intr = input(\"Enter your String:  \")\n",
        "\n",
        "import re\n",
        "pattern = r'^[a-zA-Z][a-zA-Z0-9_]{2,23}[a-zA-Z0-9]$'\n",
        "print(bool(re.match(pattern, intr)))"
      ],
      "metadata": {
        "colab": {
          "base_uri": "https://localhost:8080/"
        },
        "id": "9PjYGp9Vt8ij",
        "outputId": "fc9b40f0-4be7-4df8-cae5-4b925175383a"
      },
      "execution_count": 22,
      "outputs": [
        {
          "output_type": "stream",
          "name": "stdout",
          "text": [
            "Enter your String:  yghj5\n",
            "True\n"
          ]
        }
      ]
    },
    {
      "cell_type": "code",
      "source": [],
      "metadata": {
        "id": "Q6yoCtaexnRX"
      },
      "execution_count": null,
      "outputs": []
    }
  ]
}