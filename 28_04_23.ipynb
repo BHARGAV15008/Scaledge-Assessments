{
 "cells": [
  {
   "cell_type": "code",
   "execution_count": 2,
   "id": "712bef99",
   "metadata": {},
   "outputs": [
    {
     "name": "stdout",
     "output_type": "stream",
     "text": [
      "Enter your number: 5\n"
     ]
    },
    {
     "data": {
      "text/plain": [
       "array([[1, 1, 1, 1, 1],\n",
       "       [1, 0, 0, 0, 1],\n",
       "       [1, 0, 0, 0, 1],\n",
       "       [1, 0, 0, 0, 1],\n",
       "       [1, 1, 1, 1, 1]])"
      ]
     },
     "execution_count": 2,
     "metadata": {},
     "output_type": "execute_result"
    }
   ],
   "source": [
    "# 1) Given a single integer n, write a function to create an (n x n) 2D array with 1 on the border and 0 on the inside\n",
    "\n",
    "import numpy as np\n",
    "n = int(input(\"Enter your number: \"))\n",
    "\n",
    "def n_n_func(n):\n",
    "    arr1 = np.empty([n, n], dtype=int)\n",
    "    for i in range(n):\n",
    "        for j in range(n):\n",
    "            if i == 0 or j == 0 or i == (n-1) or j == (n-1):\n",
    "                arr1[i][j] = 1\n",
    "            else:\n",
    "                arr1[i][j] = 0\n",
    "                \n",
    "    return arr1\n",
    "\n",
    "n_n_func(n)"
   ]
  },
  {
   "cell_type": "code",
   "execution_count": 19,
   "id": "4bc2a6e3",
   "metadata": {},
   "outputs": [
    {
     "data": {
      "text/plain": [
       "{'A': 1, 'B': 2, 'C': 3, 'D': 3}"
      ]
     },
     "execution_count": 19,
     "metadata": {},
     "output_type": "execute_result"
    }
   ],
   "source": [
    "# 2) X=\"ABBCCCDDD\" from this string check occurance of character without using counter.\n",
    "\n",
    "X=\"ABBCCCDDD\"\n",
    "lst = {i: 0 for i in X}\n",
    "\n",
    "for i in X:\n",
    "    lst[i] += 1\n",
    "    \n",
    "lst"
   ]
  },
  {
   "cell_type": "code",
   "execution_count": 39,
   "id": "d33d5027",
   "metadata": {},
   "outputs": [
    {
     "name": "stdout",
     "output_type": "stream",
     "text": [
      "[1, 3, 5, 7, 9]\n",
      "[2, 4, 6, 8, 10]\n"
     ]
    }
   ],
   "source": [
    "# 3) Write a list comprehension to print a dictionary of odd and even numbers like\n",
    "# [{1: 'odd'}, {2: 'even'}, {3: 'odd'}, {4: 'even'}, {5: 'odd'}, {6: 'even'}, {7: 'odd'}, {8: ' even'}, {9: 'odd'}, {10: 'even'}]\n",
    "\n",
    "lst = [{1: 'odd'}, {2: 'even'}, {3: 'odd'}, {4: 'even'}, {5: 'odd'}, {6: 'even'}, {7: 'odd'}, {8: 'even'}, {9: 'odd'}, {10: 'even'}]\n",
    "odd_lst = [i for i in range(1, len(lst)+1) if lst[i-1][i] == 'odd']\n",
    "eve_lst = [i for i in range(1, len(lst)+1) if lst[i-1][i] == 'even']\n",
    "print(odd_lst)\n",
    "print(eve_lst)"
   ]
  },
  {
   "cell_type": "code",
   "execution_count": 42,
   "id": "8a5fa3d6",
   "metadata": {},
   "outputs": [
    {
     "name": "stdout",
     "output_type": "stream",
     "text": [
      "{'Tails': 531, 'Heads': 469}\n"
     ]
    }
   ],
   "source": [
    "# 4) Write a python program to flip a coin 1000 times and count heads and tails.\n",
    "\n",
    "import numpy as np\n",
    "tails = 0\n",
    "head = 0\n",
    "\n",
    "for i in range(1000):\n",
    "    if np.random.randint(2) == 0:\n",
    "        tails += 1\n",
    "    else:\n",
    "        head += 1\n",
    "        \n",
    "print({\"Tails\": tails, \"Heads\": head})"
   ]
  },
  {
   "cell_type": "code",
   "execution_count": 43,
   "id": "17d28206",
   "metadata": {},
   "outputs": [
    {
     "name": "stdout",
     "output_type": "stream",
     "text": [
      "4\n",
      "4\n"
     ]
    },
    {
     "data": {
      "text/plain": [
       "16"
      ]
     },
     "execution_count": 43,
     "metadata": {},
     "output_type": "execute_result"
    }
   ],
   "source": [
    "# 5) Write a program to multiply two number using lambda function.\n",
    "\n",
    "num1 = int(input())\n",
    "num2 = int(input())\n",
    "\n",
    "mult = (lambda x, y: x*y)\n",
    "mult(num1, num2)"
   ]
  },
  {
   "cell_type": "code",
   "execution_count": null,
   "id": "9d66099d",
   "metadata": {},
   "outputs": [],
   "source": []
  }
 ],
 "metadata": {
  "kernelspec": {
   "display_name": "Python 3 (ipykernel)",
   "language": "python",
   "name": "python3"
  },
  "language_info": {
   "codemirror_mode": {
    "name": "ipython",
    "version": 3
   },
   "file_extension": ".py",
   "mimetype": "text/x-python",
   "name": "python",
   "nbconvert_exporter": "python",
   "pygments_lexer": "ipython3",
   "version": "3.10.9"
  }
 },
 "nbformat": 4,
 "nbformat_minor": 5
}
