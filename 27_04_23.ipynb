{
  "nbformat": 4,
  "nbformat_minor": 0,
  "metadata": {
    "colab": {
      "provenance": []
    },
    "kernelspec": {
      "name": "python3",
      "display_name": "Python 3"
    },
    "language_info": {
      "name": "python"
    }
  },
  "cells": [
    {
      "cell_type": "code",
      "execution_count": null,
      "metadata": {
        "colab": {
          "base_uri": "https://localhost:8080/"
        },
        "id": "k6LSAGSQ3Uj2",
        "outputId": "a60615dc-fbbb-49c6-96cb-14c96cbfa062"
      },
      "outputs": [
        {
          "output_type": "stream",
          "name": "stdout",
          "text": [
            "[[13  4  8 14  1]\n",
            " [ 9  6  3  7 21]\n",
            " [ 5 12 17  9  3]]\n",
            "[[13  9  5]\n",
            " [ 4  6 12]\n",
            " [ 8  3 17]\n",
            " [14  7  9]\n",
            " [ 1 21  3]]\n"
          ]
        }
      ],
      "source": [
        "# 1) Given a 2D array A, your task is to convert all rows to columns and columns to rows.\n",
        "# # Input:\n",
        "# # First line contains 2 space separated integers, N - total rows, M - total columns.\n",
        "# # Each of the next N lines will contain M space separated integers.\n",
        "# # Output:\n",
        "# # Print M lines each containing N space separated integers.\n",
        "# SAMPLE INPUT\n",
        "# 3 5\n",
        "# 13 4 8 14 1\n",
        "# 9 6 3 7 21\n",
        "# 5 12 17 9 3\n",
        "# # SAMPLE OUTPUT\n",
        "# 13 9 5\n",
        "# 4 6 12\n",
        "# 8 3 17\n",
        "# 14 7 9\n",
        "# 1 21 3\n",
        "\n",
        "import numpy as np\n",
        "\n",
        "arr_2d = np.array([\n",
        "    [13, 4, 8, 14, 1],\n",
        "    [9, 6, 3, 7, 21],\n",
        "    [5, 12, 17, 9, 3]\n",
        "])\n",
        "\n",
        "print(arr_2d)\n",
        "\n",
        "arr_tr = np.transpose(arr_2d)\n",
        "print(arr_tr)"
      ]
    },
    {
      "cell_type": "code",
      "source": [
        "# 2) Your program is to use the brute-force approach in order to find the Answer to Life, the Universe, and Everything.\n",
        "# # All numbers at input are integers of one or two digits.\n",
        "# # Sample Input:\n",
        "# 1\n",
        "# 2\n",
        "# 88\n",
        "# 42\n",
        "# 99\n",
        "# # sample Output:\n",
        "# 1\n",
        "# 2\n",
        "# 88\n",
        "\n",
        "numbers = [1, 2, 88, 42, 99]\n",
        "outp = []\n",
        "result = []\n",
        "for num in numbers:\n",
        "    if num == 42:\n",
        "        result.append(num)\n",
        "        break\n",
        "    else:\n",
        "      outp.append(num)\n",
        "\n",
        "print(result)\n",
        "print(outp)"
      ],
      "metadata": {
        "colab": {
          "base_uri": "https://localhost:8080/"
        },
        "id": "Vy5596wT5jCS",
        "outputId": "8992f7d6-8690-430b-bf9e-d665fa794eac"
      },
      "execution_count": null,
      "outputs": [
        {
          "output_type": "stream",
          "name": "stdout",
          "text": [
            "[42]\n",
            "[1, 2, 88]\n"
          ]
        }
      ]
    },
    {
      "cell_type": "code",
      "source": [
        "# 3) Filter only negative and zero in the list using list comprehension. numbers = [-4, -3, -1, 0, 2, 4, 6]\n",
        "\n",
        "numbers = [-4, -3, -1, 0, 2, 4, 6]\n",
        "neg_number = [i for i in numbers if i<=0]\n",
        "print(neg_number)"
      ],
      "metadata": {
        "colab": {
          "base_uri": "https://localhost:8080/"
        },
        "id": "iFKoMH1E73tZ",
        "outputId": "bf56c68d-e4c7-4c88-af65-4eb6e24a4068"
      },
      "execution_count": null,
      "outputs": [
        {
          "output_type": "stream",
          "name": "stdout",
          "text": [
            "[-4, -3, -1, 0]\n"
          ]
        }
      ]
    },
    {
      "cell_type": "code",
      "source": [
        "# 4) Flatten the following list of lists of lists to a one dimensional list :\n",
        "# list_of_lists =[[[1, 2, 3]], [[4, 5, 6]], [[7, 8, 9]]] output : [1, 2, 3, 4, 5, 6, 7, 8, 9]\n",
        "\n",
        "import numpy as np\n",
        "list_of_lists =[[[1, 2, 3]], [[4, 5, 6]], [[7, 8, 9]]]\n",
        "outp = np.array(list_of_lists).flatten()\n",
        "print(outp)"
      ],
      "metadata": {
        "colab": {
          "base_uri": "https://localhost:8080/"
        },
        "id": "or6PUKOR9MlN",
        "outputId": "f3f606e8-bc5c-4418-c106-83a892918468"
      },
      "execution_count": null,
      "outputs": [
        {
          "output_type": "stream",
          "name": "stdout",
          "text": [
            "[1 2 3 4 5 6 7 8 9]\n"
          ]
        }
      ]
    },
    {
      "cell_type": "code",
      "source": [
        "# 5) Change the following list to a list of dictionaries:\n",
        "# countries = [[('Finland', 'Helsinki')], [('Sweden', 'Stockholm')], [('Norway', 'Oslo')]] output: [{'country': 'FINLAND', 'city': 'HELSINKI'},\n",
        "# {'country': 'SWEDEN', 'city': 'STOCKHOLM'}, {'country': 'NORWAY', 'city': 'OSLO'}]\n",
        "\n",
        "countries = [[('Finland', 'Helsinki')], [('Sweden', 'Stockholm')], [('Norway', 'Oslo')]]\n",
        "outp = []\n",
        "\n",
        "for i in countries:\n",
        "  for j in i:\n",
        "    outp.append({\"country\": j[0], \"city\": j[1]})\n",
        "\n",
        "print(outp)"
      ],
      "metadata": {
        "colab": {
          "base_uri": "https://localhost:8080/"
        },
        "id": "oF3UlAtw9usq",
        "outputId": "7f0c7331-d479-42a5-cba3-b4a3a0cab9cd"
      },
      "execution_count": null,
      "outputs": [
        {
          "output_type": "stream",
          "name": "stdout",
          "text": [
            "[{'country': 'Finland', 'city': 'Helsinki'}, {'country': 'Sweden', 'city': 'Stockholm'}, {'country': 'Norway', 'city': 'Oslo'}]\n"
          ]
        }
      ]
    },
    {
      "cell_type": "code",
      "source": [],
      "metadata": {
        "id": "2Iyu92yHBkXa"
      },
      "execution_count": null,
      "outputs": []
    }
  ]
}