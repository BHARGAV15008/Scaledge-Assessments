{
 "cells": [
  {
   "cell_type": "code",
   "execution_count": 1,
   "id": "9492b931",
   "metadata": {},
   "outputs": [
    {
     "name": "stdout",
     "output_type": "stream",
     "text": [
      "2\n"
     ]
    }
   ],
   "source": [
    "# 1) Given an ascending sorted rotated array Arr of distinct integers of size N. The array is right rotated K times. Find the value of K.\n",
    "# Example 1:\n",
    "# Input: N = 5 Arr[] = {5, 1, 2, 3, 4}\n",
    "# Output: 1 Explanation: The given array is 5 1 2 3 4. The original sorted array is 1 2 3 4 5. We can see that the array was rotated 1 times to the right.\n",
    "# Example 2:\n",
    "# Input: N = 5 Arr[] = {1, 2, 3, 4, 5} Output: 0 Explanation: The given array is not rotated.\n",
    "\n",
    "\n",
    "from collections import deque\n",
    "arr = [4, 5, 1, 2, 3]\n",
    "count = 0\n",
    "\n",
    "while True:\n",
    "    if arr != sorted(arr):\n",
    "        deq = deque(arr)\n",
    "        deq.rotate(-1)\n",
    "        arr = list(deq)\n",
    "        count += 1\n",
    "    else:\n",
    "        print(count)\n",
    "        break"
   ]
  },
  {
   "cell_type": "code",
   "execution_count": 2,
   "id": "d6a15be0",
   "metadata": {},
   "outputs": [
    {
     "name": "stdout",
     "output_type": "stream",
     "text": [
      "[3, 5, 4, 0, 0]\n"
     ]
    }
   ],
   "source": [
    "# 2) Given an array arr[] of N positive integers. Push all the zeros of the given array to the right end of the array while maitaining the order of non-zero elements.\n",
    "# Example 1:\n",
    "# Input: N = 5 Arr[] = {3, 5, 0, 0, 4} Output: 3 5 4 0 0 Explanation: The non-zero elements preserve their order while the 0 elements are moved to the right.\n",
    "\n",
    "arr = [3, 5, 0, 0, 4]\n",
    "\n",
    "for j in range(len(arr)):\n",
    "    for i in range(len(arr)):\n",
    "        if i != len(arr)-1:\n",
    "            if arr[i] == 0:\n",
    "                arr[i], arr[i+1] = arr[i+1], arr[i]\n",
    "\n",
    "print(arr)"
   ]
  },
  {
   "cell_type": "code",
   "execution_count": 3,
   "id": "2ba4f38d",
   "metadata": {},
   "outputs": [
    {
     "name": "stdout",
     "output_type": "stream",
     "text": [
      "[0, 17]\n"
     ]
    }
   ],
   "source": [
    "# 3) Given two strings, one is a text string and other is a pattern string. The task is to print the indexes of all the occurences of pattern string in the text string. For printing, Starting Index of a string should be taken as 1.\n",
    "# Example 1:\n",
    "# Input: S = \"batmanandrobinarebat\", pat = \"bat\" Output: 1 18 Explanation: The string \"bat\" occurs twice in S, one starts are index 1 and the other at index 18.\n",
    "\n",
    "s = \"batmanandrobinarebat\"\n",
    "pat = \"bat\"\n",
    "st = []\n",
    "\n",
    "for i in range(len(s)):\n",
    "    if i <= len(s)-3:\n",
    "        if s[i]+s[i+1]+s[i+2] == pat:\n",
    "            st.append(i)\n",
    "        else:\n",
    "            continue\n",
    "\n",
    "print(st)"
   ]
  },
  {
   "cell_type": "code",
   "execution_count": 4,
   "id": "0d2eaf09",
   "metadata": {},
   "outputs": [
    {
     "name": "stdout",
     "output_type": "stream",
     "text": [
      "7\n"
     ]
    }
   ],
   "source": [
    "# 4) Given string s, the task is to find the count of all substrings which have the same character at the beginning and end.\n",
    "# Example 1\n",
    "# Input: s = \"abcab\" Output: 7 Explanation: a, abca, b, bcab, c, a and b\n",
    "\n",
    "s = 'abcab'\n",
    "c = 0\n",
    "for i in range(len(s)):\n",
    "    for j in range(i, len(s)):\n",
    "        if s[i] == s[j]:\n",
    "            c += 1\n",
    "            \n",
    "print(c)"
   ]
  },
  {
   "cell_type": "code",
   "execution_count": 5,
   "id": "886040d1",
   "metadata": {},
   "outputs": [
    {
     "name": "stdout",
     "output_type": "stream",
     "text": [
      "0000\n",
      "0001\n",
      "0011\n",
      "0010\n",
      "0110\n",
      "0111\n",
      "0101\n",
      "0100\n",
      "1100\n",
      "1101\n",
      "1111\n",
      "1110\n",
      "1010\n",
      "1011\n",
      "1001\n",
      "1000\n"
     ]
    }
   ],
   "source": [
    "# 5) Given a number N, your task is to complete the function which generates all n-bit grey code sequences, a grey code sequence is a sequence such that successive patterns in it differ by one bit.\n",
    "# Example 1:\n",
    "# Input: N = 2 Output: 00 01 11 10 Explanation: All 2-bit gray codes are 00, 01, 11, 10 such that successive patterns in it differ by one bit.\n",
    "# Example 2:\n",
    "# Input: N = 1 Output: 0 1\n",
    "\n",
    "def gryCd(n):\n",
    "    if n <= 0:\n",
    "        return []\n",
    "\n",
    "    gray_code = []\n",
    "\n",
    "    for i in range(2**n):\n",
    "        gray_code.append((i >> 1) ^ i)\n",
    "    \n",
    "    gray_code = [format(i, f'0{4}b') for i in gray_code]\n",
    "\n",
    "    return gray_code\n",
    "\n",
    "f = gryCd(4)\n",
    "for i in f:\n",
    "    print(i)"
   ]
  },
  {
   "cell_type": "code",
   "execution_count": null,
   "id": "029edb69",
   "metadata": {},
   "outputs": [],
   "source": []
  }
 ],
 "metadata": {
  "kernelspec": {
   "display_name": "Python 3 (ipykernel)",
   "language": "python",
   "name": "python3"
  },
  "language_info": {
   "codemirror_mode": {
    "name": "ipython",
    "version": 3
   },
   "file_extension": ".py",
   "mimetype": "text/x-python",
   "name": "python",
   "nbconvert_exporter": "python",
   "pygments_lexer": "ipython3",
   "version": "3.10.9"
  }
 },
 "nbformat": 4,
 "nbformat_minor": 5
}
