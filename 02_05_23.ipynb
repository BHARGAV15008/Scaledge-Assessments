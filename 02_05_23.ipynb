{
 "cells": [
  {
   "cell_type": "code",
   "execution_count": 1,
   "id": "ae289aa7",
   "metadata": {},
   "outputs": [
    {
     "name": "stdout",
     "output_type": "stream",
     "text": [
      "Enter your Number:  4\n",
      "Enter your Number:  6\n",
      "2\n"
     ]
    }
   ],
   "source": [
    "# 1) Given an array of N integers, and an integer K, find the number of pairs of elements in the array whose sum is equal to K.\n",
    "# Example 1:\n",
    "# Input: N = 4, K = 6 arr[] = {1, 5, 7, 1} Output: 2 Explanation: arr[0] + arr[1] = 1 + 5 = 6 and arr[1] + arr[3] = 5 + 1 = 6.\n",
    "\n",
    "import numpy as np\n",
    "N = int(input(\"Enter your Number:  \"))\n",
    "K = int(input(\"Enter your Number:  \"))\n",
    "\n",
    "out = 0\n",
    "\n",
    "arr = np.array([1, 5, 7, 1])\n",
    "# print(arr)\n",
    "for i in range(N):\n",
    "        for j in range(i + 1, N):\n",
    "            if arr[i] + arr[j] == K:\n",
    "                out += 1        \n",
    "print(out)"
   ]
  },
  {
   "cell_type": "code",
   "execution_count": 2,
   "id": "6c9df51d",
   "metadata": {},
   "outputs": [
    {
     "name": "stdout",
     "output_type": "stream",
     "text": [
      "3\n"
     ]
    }
   ],
   "source": [
    "# 2) Given a sorted array containing only 0s and 1s, find the transition point.\n",
    "# Example 1:\n",
    "# Input: N = 5 arr[] = {0,0,0,1,1} Output: 3 Explanation: index 3 is the transition point where 1 begins.\n",
    "\n",
    "N = 5\n",
    "arr = np.array([0, 0, 0, 1, 1])\n",
    "\n",
    "def retPos(arr):\n",
    "    for i in range(len(arr)):\n",
    "        if arr[i] == 1:\n",
    "            return i\n",
    "        \n",
    "pos = retPos(arr)\n",
    "print(pos)"
   ]
  },
  {
   "cell_type": "code",
   "execution_count": 3,
   "id": "44083f81",
   "metadata": {},
   "outputs": [
    {
     "name": "stdout",
     "output_type": "stream",
     "text": [
      "1\n"
     ]
    }
   ],
   "source": [
    "# 3) Given an array arr[] of n integers. Check whether it contains a triplet that sums up to zero.\n",
    "# Example 1:\n",
    "# Input: n = 5, arr[] = {0, -1, 2, -3, 1} Output: 1\n",
    "# Explanation: 0, -1 and 1 forms a triplet with sum equal to 0.\n",
    "\n",
    "n = 5\n",
    "arr = [0, -1, 2, -3, 1]\n",
    "\n",
    "def findSol(arr):\n",
    "    n = len(arr)\n",
    "\n",
    "    for i in range(n - 2):\n",
    "        seen = set()\n",
    "        target = -arr[i]\n",
    "\n",
    "        for j in range(i + 1, n):\n",
    "            num = target - arr[j]\n",
    "            if num in seen:\n",
    "                return 1\n",
    "            seen.add(arr[j])\n",
    "\n",
    "    return 0\n",
    "\n",
    "print(findSol(arr))"
   ]
  },
  {
   "cell_type": "code",
   "execution_count": 4,
   "id": "dc8eabe8",
   "metadata": {},
   "outputs": [
    {
     "name": "stdout",
     "output_type": "stream",
     "text": [
      "4\n"
     ]
    }
   ],
   "source": [
    "# 4) Given an integer array coins[ ] of size N representing different denominations of currency and an integer sum, find the number of ways you can make sum by using different combinations from coins[ ]. Note: Assume that you have an infinite supply of each type of coin.\n",
    "# Example 1:\n",
    "# Input: sum = 4 , N = 3 coins[] = {1,2,3} Output: 4 Explanation: Four Possible ways are: {1,1,1,1},{1,1,2},{2,2},{1,3}.\n",
    "\n",
    "sums = 4\n",
    "coins = [1, 2, 3]\n",
    "\n",
    "def coinComb(coins, sums):\n",
    "    n = len(coins)\n",
    "    dp = [0] * (sums + 1)\n",
    "#     print(dp)\n",
    "    dp[0] = 1\n",
    "\n",
    "    for i in range(n):\n",
    "        for j in range(coins[i], sums + 1):\n",
    "            dp[j] += dp[j - coins[i]]\n",
    "\n",
    "    return dp[sums]       \n",
    "    \n",
    "\n",
    "print(coinComb(coins, sums))"
   ]
  },
  {
   "cell_type": "code",
   "execution_count": 5,
   "id": "a9ed9c4c",
   "metadata": {},
   "outputs": [
    {
     "name": "stdout",
     "output_type": "stream",
     "text": [
      "True\n"
     ]
    }
   ],
   "source": [
    "# 5) A celebrity is a person who is known to all but does not know anyone at a party. If you go to a party of N people, find if there is a celebrity in the party or not. A square NxN matrix M[][] is used to represent people at the party such that if an element of row i and column j is set to 1 it means ith person knows jth person. Here M[i][i] will always be 0. Note: Follow 0 based indexing.\n",
    "# Example 1:\n",
    "# Input: N = 3 M[][] = {{0 1 0}, {0 0 0}, {0 1 0}} Output: 1 Explanation: 0th and 2nd person both know 1. Therefore, 1 is the celebrity.\n",
    "\n",
    "m = [[0, 1, 0], [0, 0, 0], [0, 1, 0]]\n",
    "\n",
    "def check(m):\n",
    "    for i in range(3):\n",
    "        for j in range(3):\n",
    "            if (i == 0 or i == 2) and j == 1:\n",
    "#                 print(m[i][j])\n",
    "                if m[i][j] == 1:\n",
    "#                     print(m[i][j])\n",
    "                    return True\n",
    "print(check(m))"
   ]
  },
  {
   "cell_type": "code",
   "execution_count": null,
   "id": "ba214697",
   "metadata": {},
   "outputs": [],
   "source": []
  }
 ],
 "metadata": {
  "kernelspec": {
   "display_name": "Python 3 (ipykernel)",
   "language": "python",
   "name": "python3"
  },
  "language_info": {
   "codemirror_mode": {
    "name": "ipython",
    "version": 3
   },
   "file_extension": ".py",
   "mimetype": "text/x-python",
   "name": "python",
   "nbconvert_exporter": "python",
   "pygments_lexer": "ipython3",
   "version": "3.10.9"
  }
 },
 "nbformat": 4,
 "nbformat_minor": 5
}
