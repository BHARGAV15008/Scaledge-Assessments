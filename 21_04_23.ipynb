{
  "nbformat": 4,
  "nbformat_minor": 0,
  "metadata": {
    "colab": {
      "provenance": []
    },
    "kernelspec": {
      "name": "python3",
      "display_name": "Python 3"
    },
    "language_info": {
      "name": "python"
    }
  },
  "cells": [
    {
      "cell_type": "code",
      "execution_count": 1,
      "metadata": {
        "colab": {
          "base_uri": "https://localhost:8080/"
        },
        "id": "IAU_INeayM65",
        "outputId": "aff33076-c357-426b-9c96-d6d4a904237d"
      },
      "outputs": [
        {
          "output_type": "stream",
          "name": "stdout",
          "text": [
            "55\n",
            "55\n"
          ]
        }
      ],
      "source": [
        "# 1) Write a program to print the Fibonacci series using recursive and iterative method.\n",
        "\n",
        "def fib(n):\n",
        "  if n == 0:\n",
        "    return 0;\n",
        "  elif n == 1:\n",
        "    return 1;\n",
        "  else:\n",
        "    return fib(n-1)+fib(n-2)\n",
        "\n",
        "print(fib(10))\n",
        "\n",
        "\n",
        "def fib2(n):\n",
        "  a = 0;\n",
        "  b = 1;\n",
        "  for i in range(n-1):\n",
        "    c = a + b;\n",
        "    # print(c)\n",
        "    a = b;\n",
        "    b = c;\n",
        "\n",
        "  return c;\n",
        "\n",
        "print(fib2(10))"
      ]
    },
    {
      "cell_type": "code",
      "source": [
        "# 2) Write a program to remove blank space from string.\n",
        "\n",
        "intr = input(\"Enter your string: \")\n",
        "\n",
        "lst = intr.split(\" \")\n",
        "ints = \"\".join(lst)\n",
        "\n",
        "print(ints)"
      ],
      "metadata": {
        "colab": {
          "base_uri": "https://localhost:8080/"
        },
        "id": "55iGfTFuzMPW",
        "outputId": "db6612e8-514e-4953-f2d3-14e857f435fa"
      },
      "execution_count": 2,
      "outputs": [
        {
          "output_type": "stream",
          "name": "stdout",
          "text": [
            "Enter your string: bhsf3ruei 43 gej 34\n",
            "bhsf3ruei43gej34\n"
          ]
        }
      ]
    },
    {
      "cell_type": "code",
      "source": [
        "# 3) Write a program in array 1-100 numbers are stored, one number is missing how do you find it.\n",
        "\n",
        "import numpy as np\n",
        "\n",
        "lst = np.arange(101)\n",
        "lst1 = [0, 1, 2, 3, 4, 5, 6, 7 ,  8,   9,  10,  11,  12 , 13,  14 , 15 , 16,  17,\n",
        "  18,  19,  20,  21,  22 , 23 , 24,  25,  26,  27,  28,  29,  30]\n",
        "\n",
        "def fin_it(lsts):\n",
        "   set_100 = set(lst)\n",
        "   inputset = set(lsts)\n",
        "\n",
        "   missing = set_100 - inputset\n",
        "\n",
        "   return missing\n",
        "\n",
        "print(fin_it(lst1))"
      ],
      "metadata": {
        "colab": {
          "base_uri": "https://localhost:8080/"
        },
        "id": "t4_0TF8O06bx",
        "outputId": "a0c82a4e-1464-4e52-c723-903c801923c7"
      },
      "execution_count": 3,
      "outputs": [
        {
          "output_type": "stream",
          "name": "stdout",
          "text": [
            "{31, 32, 33, 34, 35, 36, 37, 38, 39, 40, 41, 42, 43, 44, 45, 46, 47, 48, 49, 50, 51, 52, 53, 54, 55, 56, 57, 58, 59, 60, 61, 62, 63, 64, 65, 66, 67, 68, 69, 70, 71, 72, 73, 74, 75, 76, 77, 78, 79, 80, 81, 82, 83, 84, 85, 86, 87, 88, 89, 90, 91, 92, 93, 94, 95, 96, 97, 98, 99, 100}\n"
          ]
        }
      ]
    },
    {
      "cell_type": "code",
      "source": [
        "# 4) Write a program to perform left rotation of array elements by two positions.\n",
        "\n",
        "import numpy as np\n",
        "\n",
        "rot_arr = np.arange(10)\n",
        "print(rot_arr)\n",
        "\n",
        "for j in range(2):\n",
        "  temp = rot_arr[0]\n",
        "  for i in range(len(rot_arr)):\n",
        "    if i == len(rot_arr)-1:\n",
        "      rot_arr[i] = temp\n",
        "    else:\n",
        "      rot_arr[i] = rot_arr[i+1]\n",
        "\n",
        "print(rot_arr)"
      ],
      "metadata": {
        "colab": {
          "base_uri": "https://localhost:8080/"
        },
        "id": "7tqrePp02IOt",
        "outputId": "c927a88d-53c3-4e3d-c0ce-05277a875e51"
      },
      "execution_count": 4,
      "outputs": [
        {
          "output_type": "stream",
          "name": "stdout",
          "text": [
            "[0 1 2 3 4 5 6 7 8 9]\n",
            "[2 3 4 5 6 7 8 9 0 1]\n"
          ]
        }
      ]
    },
    {
      "cell_type": "code",
      "source": [
        "# 5) Write a program to Counting Digits, Letters and spaces in a string.\n",
        "\n",
        "intr = input(\"Enter your String:  \")\n",
        "\n",
        "num = 0\n",
        "let = 0\n",
        "spa = 0\n",
        "\n",
        "for i in intr:\n",
        "  if i.isalpha():\n",
        "    let+=1\n",
        "  elif i.isnumeric():\n",
        "    num+=1\n",
        "  elif i == \" \":\n",
        "    spa+=1\n",
        "\n",
        "print(num, let, spa)"
      ],
      "metadata": {
        "colab": {
          "base_uri": "https://localhost:8080/"
        },
        "id": "EexBwVmJ55et",
        "outputId": "41adfa1a-52a3-4ac5-983f-7de9795611f3"
      },
      "execution_count": 5,
      "outputs": [
        {
          "output_type": "stream",
          "name": "stdout",
          "text": [
            "Enter your String:  bhfh r3rhir3rr r \n",
            "2 12 3\n"
          ]
        }
      ]
    }
  ]
}
