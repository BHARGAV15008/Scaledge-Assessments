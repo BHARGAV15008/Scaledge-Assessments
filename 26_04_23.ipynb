{
  "nbformat": 4,
  "nbformat_minor": 0,
  "metadata": {
    "colab": {
      "provenance": []
    },
    "kernelspec": {
      "name": "python3",
      "display_name": "Python 3"
    },
    "language_info": {
      "name": "python"
    }
  },
  "cells": [
    {
      "cell_type": "code",
      "execution_count": 11,
      "metadata": {
        "colab": {
          "base_uri": "https://localhost:8080/"
        },
        "id": "5B1ZXDkt_j1i",
        "outputId": "9cc4fb19-d002-4066-d567-8604b721908b"
      },
      "outputs": [
        {
          "output_type": "stream",
          "name": "stdout",
          "text": [
            "6\n"
          ]
        }
      ],
      "source": [
        "# 1) Given an integer array nums , find the contiguous subarray (containing at least one number) which has the largest sum and return its sum. A subarray is a contiguous part of an array.\n",
        "# Example 1:\n",
        "# Input: nums = [-2,1,-3,4,-1,2,1,-5,4]\n",
        "# Output: 6\n",
        "# Explanation: [4,-1,2,1] has the largest sum = 6.\n",
        "\n",
        "nums = [-2,1,-3,4,-1,2,1,-5,4]\n",
        "\n",
        "max_sum = nums[0]\n",
        "current_sum = nums[0]\n",
        "for i in range(1, len(nums)):\n",
        "    current_sum = max(nums[i], current_sum + nums[i])\n",
        "    max_sum = max(max_sum, current_sum)\n",
        "print(max_sum)\n"
      ]
    },
    {
      "cell_type": "code",
      "source": [
        "# 2) Given an integer array nums of unique elements, return all possible subsets (the power set). The solution set must not contain duplicate subsets. Return the solution in any order.\n",
        "# Input: nums = [1,2,3]\n",
        "nums = [1, 2, 3]\n",
        "\n",
        "def BackTAlgo(start, path):\n",
        "    subset.append(path)\n",
        "    for i in range(start, len(nums)):\n",
        "        BackTAlgo(i + 1, path + [nums[i]])\n",
        "\n",
        "subset = []\n",
        "BackTAlgo(0, [])\n",
        "print(subset)\n"
      ],
      "metadata": {
        "colab": {
          "base_uri": "https://localhost:8080/"
        },
        "id": "o4Zm66c1Aqco",
        "outputId": "328ccc20-8ce4-476e-fabd-d0a3e4455335"
      },
      "execution_count": 10,
      "outputs": [
        {
          "output_type": "stream",
          "name": "stdout",
          "text": [
            "[[], [1], [1, 2], [1, 2, 3], [1, 3], [2], [2, 3], [3]]\n"
          ]
        }
      ]
    },
    {
      "cell_type": "code",
      "source": [
        "# You are given an array of integers nums, there is a sliding window of size k which is moving from the very left of the array to the very right. You can only see the k numbers in the window. Each time the sliding window moves right by one position. Return the max sliding window.\n",
        "# Example :\n",
        "# Input: nums = [1,3,-1,-3,5,3,6,7], k = 3\n",
        "# Output: [3,3,5,5,6,7]\n",
        "# Explanation:\n",
        "# Window position\n",
        "# ---------------\n",
        "# Max\n",
        "# -----\n",
        "# [1 3 -1] -3 5 3 6 7 3\n",
        "# 1 [3 -1 -3] 5 3 6 7 3\n",
        "# 1 3 [-1 -3 5] 3 6 7 5\n",
        "# 1 3 -1 [-3 5 3] 6 7 5\n",
        "# 1 3 -1 -3 [5 3 6] 7 6\n",
        "# 1 3 -1 -3 5 [3 6 7] 7\n",
        "# Example 2: nums =[1,4,-1,-3,5], k = 2\n",
        "\n",
        "nums = [1,3,-1,-3,5,3,6,7]\n",
        "k = 3\n",
        "maxs = []\n",
        "for i in range(len(nums)):\n",
        "  if i == len(nums)-2:\n",
        "    break\n",
        "  else:\n",
        "    maxs.append(max(nums[i],nums[i+1],nums[i+2]))\n",
        "\n",
        "print(maxs)"
      ],
      "metadata": {
        "colab": {
          "base_uri": "https://localhost:8080/"
        },
        "id": "nAEuZdlfBJme",
        "outputId": "d032ef03-8916-4d4b-ede2-7fcfa5ddd4af"
      },
      "execution_count": 19,
      "outputs": [
        {
          "output_type": "stream",
          "name": "stdout",
          "text": [
            "[3, 3, 5, 5, 6, 7]\n"
          ]
        }
      ]
    },
    {
      "cell_type": "code",
      "source": [
        "# 4) Write a program for Reverse Pyramid of Numbers\n",
        "# Pattern: –\n",
        "# 1 2 1 3 2 1 4 3 2 1 5 4 3 2 1\n",
        "\n",
        "for i in range(1,6):\n",
        "  for j in range(i,0,-1):\n",
        "    print(j,end=\"\")\n",
        "  print()"
      ],
      "metadata": {
        "colab": {
          "base_uri": "https://localhost:8080/"
        },
        "id": "Opc4u7-kGmvc",
        "outputId": "978ac996-f4a7-43e6-f22e-14dd852fe054"
      },
      "execution_count": 27,
      "outputs": [
        {
          "output_type": "stream",
          "name": "stdout",
          "text": [
            "1\n",
            "21\n",
            "321\n",
            "4321\n",
            "54321\n"
          ]
        }
      ]
    },
    {
      "cell_type": "code",
      "source": [
        "# 5) Write a program for left start pattern of star\n",
        "# Pattern: –\n",
        "# * * * * * * * * * * * * * * * * * * * * * * * * *\n",
        "\n",
        "for i in range(1,7):\n",
        "  if i != 6:\n",
        "    for j in range(i):\n",
        "      print(\"*\",end=\"\")\n",
        "    print()\n",
        "  else:\n",
        "    for j in range(i,0,-1):\n",
        "      print(\"*\"*j, end=\"\")\n",
        "      print()"
      ],
      "metadata": {
        "colab": {
          "base_uri": "https://localhost:8080/"
        },
        "id": "hR_OTeXNIkkd",
        "outputId": "acb0aad9-8fcd-4a88-e7a1-84a1f0692ece"
      },
      "execution_count": 29,
      "outputs": [
        {
          "output_type": "stream",
          "name": "stdout",
          "text": [
            "*\n",
            "**\n",
            "***\n",
            "****\n",
            "*****\n",
            "******\n",
            "*****\n",
            "****\n",
            "***\n",
            "**\n",
            "*\n"
          ]
        }
      ]
    },
    {
      "cell_type": "code",
      "source": [],
      "metadata": {
        "id": "7FUgvDoTJslf"
      },
      "execution_count": null,
      "outputs": []
    }
  ]
}