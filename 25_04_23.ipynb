{
  "nbformat": 4,
  "nbformat_minor": 0,
  "metadata": {
    "colab": {
      "provenance": []
    },
    "kernelspec": {
      "name": "python3",
      "display_name": "Python 3"
    },
    "language_info": {
      "name": "python"
    }
  },
  "cells": [
    {
      "cell_type": "code",
      "execution_count": 2,
      "metadata": {
        "colab": {
          "base_uri": "https://localhost:8080/"
        },
        "id": "_B5gd30jlfOI",
        "outputId": "4e94ed29-1fc7-49da-acce-f34f8c2b6c23"
      },
      "outputs": [
        {
          "output_type": "stream",
          "name": "stdout",
          "text": [
            "Enter your strings:  my name is bhargav jani.\n",
            "bhargav\n"
          ]
        }
      ],
      "source": [
        "# 1) Python Program to Print Smallest and Largest Word in String\n",
        "from functools import cmp_to_key\n",
        "intr = input(\"Enter your strings:  \")\n",
        "\n",
        "lst_str = intr.split(\" \")\n",
        "\n",
        "def cmp(x, y):\n",
        "  if len(x) > len(y):\n",
        "    return -1;\n",
        "  else:\n",
        "    return  1\n",
        "\n",
        "lst_str.sort(key=cmp_to_key(cmp))\n",
        "print(lst_str[0])"
      ]
    },
    {
      "cell_type": "code",
      "source": [
        "# 2) Python Program to Find Product of Mid Digits Ex: Input – 123456 output = 12 (3*4)\n",
        "\n",
        "intr = input(\"Enter your Number:  \")\n",
        "n = len(intr)\n",
        "l = n//2\n",
        "if n%2==0:\n",
        "  print(int(intr[l-1])*int(intr[l]))\n",
        "else:\n",
        "  print(int(intr[l-1])*int(intr[l]))"
      ],
      "metadata": {
        "colab": {
          "base_uri": "https://localhost:8080/"
        },
        "id": "bGQQW0YopVaq",
        "outputId": "bae8920b-1e86-4586-af61-3e03c711cb64"
      },
      "execution_count": 13,
      "outputs": [
        {
          "output_type": "stream",
          "name": "stdout",
          "text": [
            "Enter your Number:  123456\n",
            "12\n"
          ]
        }
      ]
    },
    {
      "cell_type": "code",
      "source": [
        "# 3) You are given a string and your task is to swap cases. In other words, convert all lowercase letters to uppercase letters and vice versa.\n",
        "\n",
        "intr = input(\"Enter your String:  \")\n",
        "inr_c = \"\"\n",
        "for i in intr:\n",
        "  if i.isupper():\n",
        "    inr_c += i.lower()\n",
        "  else:\n",
        "    inr_c += i.upper()\n",
        "\n",
        "print(inr_c)"
      ],
      "metadata": {
        "colab": {
          "base_uri": "https://localhost:8080/"
        },
        "id": "LLLsCt0drU_k",
        "outputId": "14224949-75a6-4955-9541-bd0e5c14bcfa"
      },
      "execution_count": 22,
      "outputs": [
        {
          "output_type": "stream",
          "name": "stdout",
          "text": [
            "Enter your String:  bhargvJNJ\n",
            "BHARGVjnj\n"
          ]
        }
      ]
    },
    {
      "cell_type": "code",
      "source": [
        "# 4) Find the median of two sorted arrays.\n",
        "\n",
        "import numpy as np\n",
        "\n",
        "arr1 = np.arange(10)\n",
        "print(arr1)\n",
        "arr2 = np.array([5, 6, 2, 8, 4, 9])\n",
        "print(arr2)\n",
        "\n",
        "med1 = np.median(arr1)\n",
        "med2 = np.median(arr2)\n",
        "print(med1, med2)"
      ],
      "metadata": {
        "colab": {
          "base_uri": "https://localhost:8080/"
        },
        "id": "wShD2wuCu8qF",
        "outputId": "097b7247-b5c1-483b-eb1d-c2931cf1a0f7"
      },
      "execution_count": 25,
      "outputs": [
        {
          "output_type": "stream",
          "name": "stdout",
          "text": [
            "[0 1 2 3 4 5 6 7 8 9]\n",
            "[5 6 2 8 4 9]\n",
            "4.5 5.5\n"
          ]
        }
      ]
    },
    {
      "cell_type": "code",
      "source": [
        "from numpy.ma.core import add\n",
        "# 5) Given two integers, write a function to sum the numbers without using any arithmetic operators.\n",
        "\n",
        "inr = int(input(\"Enter your First Number: \"))\n",
        "intr = int(input(\"Enter your Second Number: \"))\n",
        "\n",
        "print(add(inr, intr))"
      ],
      "metadata": {
        "colab": {
          "base_uri": "https://localhost:8080/"
        },
        "id": "egz94EGd1JxF",
        "outputId": "8689045b-3a04-4a2b-a8b3-0617b24bcb92"
      },
      "execution_count": 26,
      "outputs": [
        {
          "output_type": "stream",
          "name": "stdout",
          "text": [
            "Enter your First Number: 34\n",
            "Enter your Second Number: 24\n",
            "58\n"
          ]
        }
      ]
    },
    {
      "cell_type": "code",
      "source": [],
      "metadata": {
        "id": "hO3JFfq56r9k"
      },
      "execution_count": null,
      "outputs": []
    }
  ]
}
