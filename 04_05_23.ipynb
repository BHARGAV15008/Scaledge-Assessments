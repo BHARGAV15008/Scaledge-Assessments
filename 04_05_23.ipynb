{
 "cells": [
  {
   "cell_type": "code",
   "execution_count": 1,
   "id": "cab942dd",
   "metadata": {},
   "outputs": [
    {
     "name": "stdout",
     "output_type": "stream",
     "text": [
      "\n",
      "mean: 5.571428571428571\n",
      "median: 6.0\n",
      "standard deviation: 3.1558174334820746\n"
     ]
    }
   ],
   "source": [
    "# 1) Write a NumPy program to calculate the arithmetic mean, median, and standard deviation of array of numbers.\n",
    "\n",
    "import numpy as np\n",
    "\n",
    "num = [1, 4, 2, 6, 7, 9, 10]\n",
    "mean = np.mean(num)\n",
    "med = np.median(num)\n",
    "stand = np.std(num)\n",
    "\n",
    "print(\"\\nmean: \" + str(mean) + \"\\nmedian: \" + str(med) + \"\\nstandard deviation: \" + str(stand))"
   ]
  },
  {
   "cell_type": "code",
   "execution_count": 2,
   "id": "2a817ce7",
   "metadata": {},
   "outputs": [
    {
     "name": "stdout",
     "output_type": "stream",
     "text": [
      "[ 1  3  6 10 15]\n"
     ]
    }
   ],
   "source": [
    "# 2) Write a Python function that takes a Numpy array a and returns a new array b where each element of b is the cumulative sum of the corresponding element and all preceding elements of a. For example, if a = [1, 2, 3, 4, 5], then b = [1, 3, 6, 10, 15]\n",
    "\n",
    "import numpy as np\n",
    "\n",
    "a = [1, 2, 3, 4, 5]\n",
    "b = np.cumsum(a)\n",
    "\n",
    "print(b)"
   ]
  },
  {
   "cell_type": "code",
   "execution_count": 3,
   "id": "e855494f",
   "metadata": {},
   "outputs": [
    {
     "name": "stdout",
     "output_type": "stream",
     "text": [
      "[5 4 3 2 1]\n"
     ]
    }
   ],
   "source": [
    "# 3) Write a program to reverse a NumPy array\n",
    "\n",
    "import numpy as np\n",
    "\n",
    "a = np.array([1, 2, 3, 4, 5])\n",
    "b = np.flip(a)\n",
    "print(b)"
   ]
  },
  {
   "cell_type": "code",
   "execution_count": 4,
   "id": "ddaf24bb",
   "metadata": {},
   "outputs": [
    {
     "name": "stdout",
     "output_type": "stream",
     "text": [
      "bhargav jani\n",
      "BHARGAV JANI\n",
      "bhargav jani\n",
      "Bhargav jani\n",
      "Bhargav Jani\n"
     ]
    }
   ],
   "source": [
    "# 4) Write a program to convert a string element to uppercase, lowercase, capitalise the first letter, title-case and swapcase of a given NumPy array.\n",
    "\n",
    "import numpy as np\n",
    "\n",
    "a = np.array(\"bhargav jani\")\n",
    "b = str(a).upper()\n",
    "c = str(a).lower()\n",
    "d = str(a).capitalize()\n",
    "e = str(a).title()\n",
    "\n",
    "print(a)\n",
    "print(b)\n",
    "print(c)\n",
    "print(d)\n",
    "print(e)"
   ]
  },
  {
   "cell_type": "code",
   "execution_count": 5,
   "id": "8d4bad82",
   "metadata": {},
   "outputs": [
    {
     "name": "stdout",
     "output_type": "stream",
     "text": [
      "['aaaaa' 'hellohellohellohellohello']\n"
     ]
    }
   ],
   "source": [
    "# 5) Write a program to repeat each of the elements five times for a given numpy array.\n",
    "# Input = [‘a’,’hello’] output = [‘aaaaa’,’hellohellohellohellohello’]\n",
    "\n",
    "import numpy as np\n",
    "\n",
    "inp = ['a', 'hello']\n",
    "out = np.char.multiply(inp, 5)\n",
    "\n",
    "print(out)"
   ]
  },
  {
   "cell_type": "code",
   "execution_count": 8,
   "id": "7c50edc3",
   "metadata": {},
   "outputs": [
    {
     "name": "stdout",
     "output_type": "stream",
     "text": [
      "1 2 3 4 5 6 7 8 9 10 11 12 13 14 15 16 17 18 19 20 21 22 23 24 25 26 27 28 29 30 31 32 33 34 35 36 37 38 39 40 41 42 43 44 45\n",
      "change shape to :  \n",
      "5 3 3\n",
      "[[[ 1  2  3]\n",
      "  [ 4  5  6]\n",
      "  [ 7  8  9]]\n",
      "\n",
      " [[10 11 12]\n",
      "  [13 14 15]\n",
      "  [16 17 18]]\n",
      "\n",
      " [[19 20 21]\n",
      "  [22 23 24]\n",
      "  [25 26 27]]\n",
      "\n",
      " [[28 29 30]\n",
      "  [31 32 33]\n",
      "  [34 35 36]]\n",
      "\n",
      " [[37 38 39]\n",
      "  [40 41 42]\n",
      "  [43 44 45]]]\n"
     ]
    }
   ],
   "source": [
    "# 6) Write a program for changing the dimension of a NumPy array\n",
    "\n",
    "import numpy as np\n",
    "\n",
    "inp = [int(j) for j in input().split(\" \")]\n",
    "\n",
    "inp = np.array(inp)\n",
    "\n",
    "print(\"change shape to :  \")\n",
    "ls = [int(i) for i in input().split(\" \")]\n",
    "\n",
    "out = np.reshape(inp, tuple(ls))\n",
    "\n",
    "print(out)"
   ]
  },
  {
   "cell_type": "code",
   "execution_count": 14,
   "id": "6915f984",
   "metadata": {},
   "outputs": [
    {
     "name": "stdout",
     "output_type": "stream",
     "text": [
      "4\n",
      "\n",
      "1 2 3\n",
      "4 5 6\n",
      "7 8 9\n",
      "9 8 6\n",
      "\n",
      "[[1 4 7 9]\n",
      " [2 5 8 8]\n",
      " [3 6 9 6]]\n"
     ]
    }
   ],
   "source": [
    "# 7) Write a program for interchanging two axes of the NumPy array.\n",
    "\n",
    "import numpy as np\n",
    "\n",
    "n = int(input())\n",
    "print()\n",
    "\n",
    "inp = np.array([[int(i) for i in input().split(\" \")] for i in range(n)])\n",
    "out = np.swapaxes(inp, 0, 1)\n",
    "print()\n",
    "print(out)"
   ]
  }
 ],
 "metadata": {
  "kernelspec": {
   "display_name": "Python 3 (ipykernel)",
   "language": "python",
   "name": "python3"
  },
  "language_info": {
   "codemirror_mode": {
    "name": "ipython",
    "version": 3
   },
   "file_extension": ".py",
   "mimetype": "text/x-python",
   "name": "python",
   "nbconvert_exporter": "python",
   "pygments_lexer": "ipython3",
   "version": "3.10.9"
  }
 },
 "nbformat": 4,
 "nbformat_minor": 5
}
